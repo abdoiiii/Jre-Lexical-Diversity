{
 "cells": [
  {
   "cell_type": "markdown",
   "metadata": {},
   "source": [
    "# Importing Libraries"
   ]
  },
  {
   "cell_type": "code",
   "execution_count": 1,
   "metadata": {},
   "outputs": [],
   "source": [
    "import numpy as np\n",
    "import pandas as pd\n",
    "import matplotlib.pyplot as plt\n",
    "import sklearn as sk\n",
    "from scipy import stats\n",
    "import time\n"
   ]
  },
  {
   "cell_type": "code",
   "execution_count": 2,
   "metadata": {},
   "outputs": [],
   "source": [
    "import nltk\n",
    "from nltk.corpus import stopwords\n",
    "from nltk.tokenize import word_tokenize  \n",
    "stop_words = set(stopwords.words(\"english\"))\n",
    "\n",
    "from lexical_diversity import lex_div as ld\n"
   ]
  },
  {
   "cell_type": "code",
   "execution_count": 3,
   "metadata": {},
   "outputs": [],
   "source": [
    "\n",
    "from keras.preprocessing.text import Tokenizer\n"
   ]
  },
  {
   "cell_type": "markdown",
   "metadata": {},
   "source": [
    "#### Setting display width to maximum- veryimportant"
   ]
  },
  {
   "cell_type": "code",
   "execution_count": 4,
   "metadata": {},
   "outputs": [],
   "source": [
    "pd.set_option('display.max_colwidth', None)\n"
   ]
  },
  {
   "cell_type": "markdown",
   "metadata": {},
   "source": [
    "# Data"
   ]
  },
  {
   "cell_type": "code",
   "execution_count": 5,
   "metadata": {},
   "outputs": [],
   "source": [
    "df= pd.read_excel(\"clean.xlsx\",\"Alex_Jones\")"
   ]
  },
  {
   "cell_type": "code",
   "execution_count": 6,
   "metadata": {},
   "outputs": [],
   "source": [
    "df1 =pd.read_csv(\"unigram classes.csv\")"
   ]
  },
  {
   "cell_type": "markdown",
   "metadata": {},
   "source": [
    "# Preprocessing"
   ]
  },
  {
   "cell_type": "markdown",
   "metadata": {},
   "source": [
    "## Tokenize"
   ]
  },
  {
   "cell_type": "code",
   "execution_count": 7,
   "metadata": {},
   "outputs": [],
   "source": [
    "dfcopy = df.copy()"
   ]
  },
  {
   "cell_type": "code",
   "execution_count": 8,
   "metadata": {},
   "outputs": [],
   "source": [
    "dfcopy[\"Comment\"] = dfcopy[\"Comment\"].apply(lambda x : word_tokenize(x))"
   ]
  },
  {
   "cell_type": "code",
   "execution_count": 9,
   "metadata": {},
   "outputs": [
    {
     "data": {
      "text/html": [
       "<div>\n",
       "<style scoped>\n",
       "    .dataframe tbody tr th:only-of-type {\n",
       "        vertical-align: middle;\n",
       "    }\n",
       "\n",
       "    .dataframe tbody tr th {\n",
       "        vertical-align: top;\n",
       "    }\n",
       "\n",
       "    .dataframe thead th {\n",
       "        text-align: right;\n",
       "    }\n",
       "</style>\n",
       "<table border=\"1\" class=\"dataframe\">\n",
       "  <thead>\n",
       "    <tr style=\"text-align: right;\">\n",
       "      <th></th>\n",
       "      <th>Name</th>\n",
       "      <th>Comment</th>\n",
       "    </tr>\n",
       "  </thead>\n",
       "  <tbody>\n",
       "    <tr>\n",
       "      <th>0</th>\n",
       "      <td>Username</td>\n",
       "      <td>[It, impossible, to, not, love, Alex, Jones]</td>\n",
       "    </tr>\n",
       "    <tr>\n",
       "      <th>1</th>\n",
       "      <td>TheEAGLESEYES</td>\n",
       "      <td>[blg, was, another, controlled, demolition, the, blg, was, rigged, well, ahead, of, the, date, adrenochrome, is, why, newborns, sell, for, five, hundred, thousand, dollars]</td>\n",
       "    </tr>\n",
       "    <tr>\n",
       "      <th>2</th>\n",
       "      <td>Alex Brock</td>\n",
       "      <td>[This, is, all, declassified]</td>\n",
       "    </tr>\n",
       "    <tr>\n",
       "      <th>3</th>\n",
       "      <td>Josh Yeager</td>\n",
       "      <td>[Thank, GOD, for, our, free, speech, WOE, to, those, at, little, brothers, BOOBTUBE, who, would, TRY, to, censor, like, pissing, in, the, wind, an, UNALIENABLE, RIGHT, given, to, us, by, our, CREATOR]</td>\n",
       "    </tr>\n",
       "    <tr>\n",
       "      <th>4</th>\n",
       "      <td>Zic Ky</td>\n",
       "      <td>[Alex, gets, molested]</td>\n",
       "    </tr>\n",
       "  </tbody>\n",
       "</table>\n",
       "</div>"
      ],
      "text/plain": [
       "               Name  \\\n",
       "0          Username   \n",
       "1  TheEAGLESEYES      \n",
       "2        Alex Brock   \n",
       "3       Josh Yeager   \n",
       "4            Zic Ky   \n",
       "\n",
       "                                                                                                                                                                                                    Comment  \n",
       "0                                                                                                                                                              [It, impossible, to, not, love, Alex, Jones]  \n",
       "1                              [blg, was, another, controlled, demolition, the, blg, was, rigged, well, ahead, of, the, date, adrenochrome, is, why, newborns, sell, for, five, hundred, thousand, dollars]  \n",
       "2                                                                                                                                                                             [This, is, all, declassified]  \n",
       "3  [Thank, GOD, for, our, free, speech, WOE, to, those, at, little, brothers, BOOBTUBE, who, would, TRY, to, censor, like, pissing, in, the, wind, an, UNALIENABLE, RIGHT, given, to, us, by, our, CREATOR]  \n",
       "4                                                                                                                                                                                    [Alex, gets, molested]  "
      ]
     },
     "execution_count": 9,
     "metadata": {},
     "output_type": "execute_result"
    }
   ],
   "source": [
    "dfcopy.head()"
   ]
  },
  {
   "cell_type": "markdown",
   "metadata": {},
   "source": [
    "## Remove stop words"
   ]
  },
  {
   "cell_type": "code",
   "execution_count": 10,
   "metadata": {},
   "outputs": [],
   "source": [
    "dfcopy[\"Comment\"]=dfcopy[\"Comment\"].apply(lambda x : [item for item in x if item not in stop_words])"
   ]
  },
  {
   "cell_type": "code",
   "execution_count": 11,
   "metadata": {},
   "outputs": [
    {
     "data": {
      "text/html": [
       "<div>\n",
       "<style scoped>\n",
       "    .dataframe tbody tr th:only-of-type {\n",
       "        vertical-align: middle;\n",
       "    }\n",
       "\n",
       "    .dataframe tbody tr th {\n",
       "        vertical-align: top;\n",
       "    }\n",
       "\n",
       "    .dataframe thead th {\n",
       "        text-align: right;\n",
       "    }\n",
       "</style>\n",
       "<table border=\"1\" class=\"dataframe\">\n",
       "  <thead>\n",
       "    <tr style=\"text-align: right;\">\n",
       "      <th></th>\n",
       "      <th>Name</th>\n",
       "      <th>Comment</th>\n",
       "    </tr>\n",
       "  </thead>\n",
       "  <tbody>\n",
       "    <tr>\n",
       "      <th>0</th>\n",
       "      <td>Username</td>\n",
       "      <td>[It, impossible, love, Alex, Jones]</td>\n",
       "    </tr>\n",
       "    <tr>\n",
       "      <th>1</th>\n",
       "      <td>TheEAGLESEYES</td>\n",
       "      <td>[blg, another, controlled, demolition, blg, rigged, well, ahead, date, adrenochrome, newborns, sell, five, hundred, thousand, dollars]</td>\n",
       "    </tr>\n",
       "    <tr>\n",
       "      <th>2</th>\n",
       "      <td>Alex Brock</td>\n",
       "      <td>[This, declassified]</td>\n",
       "    </tr>\n",
       "    <tr>\n",
       "      <th>3</th>\n",
       "      <td>Josh Yeager</td>\n",
       "      <td>[Thank, GOD, free, speech, WOE, little, brothers, BOOBTUBE, would, TRY, censor, like, pissing, wind, UNALIENABLE, RIGHT, given, us, CREATOR]</td>\n",
       "    </tr>\n",
       "    <tr>\n",
       "      <th>4</th>\n",
       "      <td>Zic Ky</td>\n",
       "      <td>[Alex, gets, molested]</td>\n",
       "    </tr>\n",
       "    <tr>\n",
       "      <th>...</th>\n",
       "      <td>...</td>\n",
       "      <td>...</td>\n",
       "    </tr>\n",
       "    <tr>\n",
       "      <th>38222</th>\n",
       "      <td>memehub</td>\n",
       "      <td>[need, know, gets, black, long, sleeves]</td>\n",
       "    </tr>\n",
       "    <tr>\n",
       "      <th>38223</th>\n",
       "      <td>Submit to Jesus</td>\n",
       "      <td>[Speaking, guys, weird, looking, eyes, psychedelics, meet, innerdimensional, entities, look, Zuckerberg, eyes, Tell, thats, true]</td>\n",
       "    </tr>\n",
       "    <tr>\n",
       "      <th>38224</th>\n",
       "      <td>Prod Germa K</td>\n",
       "      <td>[Didn, know, much, need, Joe, Rogan, Eddie, bravo, Alex, Jones, talk, show, till]</td>\n",
       "    </tr>\n",
       "    <tr>\n",
       "      <th>38225</th>\n",
       "      <td>Luke C</td>\n",
       "      <td>[No, wonder, Joe, talks, living, The, guy, great, fucking, talker, He, legit, knows, say, everything]</td>\n",
       "    </tr>\n",
       "    <tr>\n",
       "      <th>38226</th>\n",
       "      <td>Banehogg</td>\n",
       "      <td>[I, really, approve, parading, paranoid, schizophrenic, YouTube, entertainment, holy, shit, riot]</td>\n",
       "    </tr>\n",
       "  </tbody>\n",
       "</table>\n",
       "<p>38227 rows × 2 columns</p>\n",
       "</div>"
      ],
      "text/plain": [
       "                   Name  \\\n",
       "0              Username   \n",
       "1      TheEAGLESEYES      \n",
       "2            Alex Brock   \n",
       "3           Josh Yeager   \n",
       "4                Zic Ky   \n",
       "...                 ...   \n",
       "38222           memehub   \n",
       "38223   Submit to Jesus   \n",
       "38224      Prod Germa K   \n",
       "38225            Luke C   \n",
       "38226          Banehogg   \n",
       "\n",
       "                                                                                                                                            Comment  \n",
       "0                                                                                                               [It, impossible, love, Alex, Jones]  \n",
       "1            [blg, another, controlled, demolition, blg, rigged, well, ahead, date, adrenochrome, newborns, sell, five, hundred, thousand, dollars]  \n",
       "2                                                                                                                              [This, declassified]  \n",
       "3      [Thank, GOD, free, speech, WOE, little, brothers, BOOBTUBE, would, TRY, censor, like, pissing, wind, UNALIENABLE, RIGHT, given, us, CREATOR]  \n",
       "4                                                                                                                            [Alex, gets, molested]  \n",
       "...                                                                                                                                             ...  \n",
       "38222                                                                                                      [need, know, gets, black, long, sleeves]  \n",
       "38223             [Speaking, guys, weird, looking, eyes, psychedelics, meet, innerdimensional, entities, look, Zuckerberg, eyes, Tell, thats, true]  \n",
       "38224                                                             [Didn, know, much, need, Joe, Rogan, Eddie, bravo, Alex, Jones, talk, show, till]  \n",
       "38225                                         [No, wonder, Joe, talks, living, The, guy, great, fucking, talker, He, legit, knows, say, everything]  \n",
       "38226                                             [I, really, approve, parading, paranoid, schizophrenic, YouTube, entertainment, holy, shit, riot]  \n",
       "\n",
       "[38227 rows x 2 columns]"
      ]
     },
     "execution_count": 11,
     "metadata": {},
     "output_type": "execute_result"
    }
   ],
   "source": [
    "dfcopy"
   ]
  },
  {
   "cell_type": "markdown",
   "metadata": {},
   "source": [
    "# UNIGRAM Data"
   ]
  },
  {
   "cell_type": "code",
   "execution_count": 12,
   "metadata": {},
   "outputs": [],
   "source": [
    "unigramcopy = df1.copy()\n",
    "\n"
   ]
  },
  {
   "cell_type": "code",
   "execution_count": 13,
   "metadata": {},
   "outputs": [
    {
     "data": {
      "text/html": [
       "<div>\n",
       "<style scoped>\n",
       "    .dataframe tbody tr th:only-of-type {\n",
       "        vertical-align: middle;\n",
       "    }\n",
       "\n",
       "    .dataframe tbody tr th {\n",
       "        vertical-align: top;\n",
       "    }\n",
       "\n",
       "    .dataframe thead th {\n",
       "        text-align: right;\n",
       "    }\n",
       "</style>\n",
       "<table border=\"1\" class=\"dataframe\">\n",
       "  <thead>\n",
       "    <tr style=\"text-align: right;\">\n",
       "      <th></th>\n",
       "      <th>integer</th>\n",
       "      <th>word</th>\n",
       "      <th>count</th>\n",
       "      <th>class</th>\n",
       "    </tr>\n",
       "  </thead>\n",
       "  <tbody>\n",
       "    <tr>\n",
       "      <th>0</th>\n",
       "      <td>2</td>\n",
       "      <td>the</td>\n",
       "      <td>23135851162</td>\n",
       "      <td>1</td>\n",
       "    </tr>\n",
       "    <tr>\n",
       "      <th>1</th>\n",
       "      <td>3</td>\n",
       "      <td>of</td>\n",
       "      <td>13151942776</td>\n",
       "      <td>1</td>\n",
       "    </tr>\n",
       "    <tr>\n",
       "      <th>2</th>\n",
       "      <td>4</td>\n",
       "      <td>and</td>\n",
       "      <td>12997637966</td>\n",
       "      <td>1</td>\n",
       "    </tr>\n",
       "    <tr>\n",
       "      <th>3</th>\n",
       "      <td>5</td>\n",
       "      <td>to</td>\n",
       "      <td>12136980858</td>\n",
       "      <td>1</td>\n",
       "    </tr>\n",
       "    <tr>\n",
       "      <th>4</th>\n",
       "      <td>6</td>\n",
       "      <td>a</td>\n",
       "      <td>9081174698</td>\n",
       "      <td>1</td>\n",
       "    </tr>\n",
       "  </tbody>\n",
       "</table>\n",
       "</div>"
      ],
      "text/plain": [
       "   integer word        count  class\n",
       "0        2  the  23135851162      1\n",
       "1        3   of  13151942776      1\n",
       "2        4  and  12997637966      1\n",
       "3        5   to  12136980858      1\n",
       "4        6    a   9081174698      1"
      ]
     },
     "execution_count": 13,
     "metadata": {},
     "output_type": "execute_result"
    }
   ],
   "source": [
    "unigramcopy.head()"
   ]
  },
  {
   "cell_type": "code",
   "execution_count": 14,
   "metadata": {},
   "outputs": [],
   "source": [
    "unigramcopy= unigramcopy.drop(columns=\"class\")"
   ]
  },
  {
   "cell_type": "code",
   "execution_count": null,
   "metadata": {},
   "outputs": [],
   "source": []
  },
  {
   "cell_type": "code",
   "execution_count": 15,
   "metadata": {},
   "outputs": [
    {
     "data": {
      "text/html": [
       "<div>\n",
       "<style scoped>\n",
       "    .dataframe tbody tr th:only-of-type {\n",
       "        vertical-align: middle;\n",
       "    }\n",
       "\n",
       "    .dataframe tbody tr th {\n",
       "        vertical-align: top;\n",
       "    }\n",
       "\n",
       "    .dataframe thead th {\n",
       "        text-align: right;\n",
       "    }\n",
       "</style>\n",
       "<table border=\"1\" class=\"dataframe\">\n",
       "  <thead>\n",
       "    <tr style=\"text-align: right;\">\n",
       "      <th></th>\n",
       "      <th>integer</th>\n",
       "      <th>word</th>\n",
       "      <th>count</th>\n",
       "    </tr>\n",
       "  </thead>\n",
       "  <tbody>\n",
       "    <tr>\n",
       "      <th>0</th>\n",
       "      <td>2</td>\n",
       "      <td>the</td>\n",
       "      <td>23135851162</td>\n",
       "    </tr>\n",
       "    <tr>\n",
       "      <th>1</th>\n",
       "      <td>3</td>\n",
       "      <td>of</td>\n",
       "      <td>13151942776</td>\n",
       "    </tr>\n",
       "    <tr>\n",
       "      <th>2</th>\n",
       "      <td>4</td>\n",
       "      <td>and</td>\n",
       "      <td>12997637966</td>\n",
       "    </tr>\n",
       "    <tr>\n",
       "      <th>3</th>\n",
       "      <td>5</td>\n",
       "      <td>to</td>\n",
       "      <td>12136980858</td>\n",
       "    </tr>\n",
       "    <tr>\n",
       "      <th>4</th>\n",
       "      <td>6</td>\n",
       "      <td>a</td>\n",
       "      <td>9081174698</td>\n",
       "    </tr>\n",
       "  </tbody>\n",
       "</table>\n",
       "</div>"
      ],
      "text/plain": [
       "   integer word        count\n",
       "0        2  the  23135851162\n",
       "1        3   of  13151942776\n",
       "2        4  and  12997637966\n",
       "3        5   to  12136980858\n",
       "4        6    a   9081174698"
      ]
     },
     "execution_count": 15,
     "metadata": {},
     "output_type": "execute_result"
    }
   ],
   "source": [
    "unigramcopy.head()"
   ]
  },
  {
   "cell_type": "code",
   "execution_count": 16,
   "metadata": {},
   "outputs": [],
   "source": [
    "unigramcopy[\"class\"]= pd.cut(unigramcopy[\"integer\"], bins=100, labels=(range(0,100)))"
   ]
  },
  {
   "cell_type": "code",
   "execution_count": 17,
   "metadata": {},
   "outputs": [
    {
     "data": {
      "text/html": [
       "<div>\n",
       "<style scoped>\n",
       "    .dataframe tbody tr th:only-of-type {\n",
       "        vertical-align: middle;\n",
       "    }\n",
       "\n",
       "    .dataframe tbody tr th {\n",
       "        vertical-align: top;\n",
       "    }\n",
       "\n",
       "    .dataframe thead th {\n",
       "        text-align: right;\n",
       "    }\n",
       "</style>\n",
       "<table border=\"1\" class=\"dataframe\">\n",
       "  <thead>\n",
       "    <tr style=\"text-align: right;\">\n",
       "      <th></th>\n",
       "      <th>integer</th>\n",
       "      <th>word</th>\n",
       "      <th>count</th>\n",
       "    </tr>\n",
       "    <tr>\n",
       "      <th>class</th>\n",
       "      <th></th>\n",
       "      <th></th>\n",
       "      <th></th>\n",
       "    </tr>\n",
       "  </thead>\n",
       "  <tbody>\n",
       "    <tr>\n",
       "      <th>0</th>\n",
       "      <td>3334</td>\n",
       "      <td>3333</td>\n",
       "      <td>3334</td>\n",
       "    </tr>\n",
       "    <tr>\n",
       "      <th>1</th>\n",
       "      <td>3333</td>\n",
       "      <td>3333</td>\n",
       "      <td>3333</td>\n",
       "    </tr>\n",
       "    <tr>\n",
       "      <th>2</th>\n",
       "      <td>3333</td>\n",
       "      <td>3333</td>\n",
       "      <td>3333</td>\n",
       "    </tr>\n",
       "    <tr>\n",
       "      <th>3</th>\n",
       "      <td>3334</td>\n",
       "      <td>3333</td>\n",
       "      <td>3334</td>\n",
       "    </tr>\n",
       "    <tr>\n",
       "      <th>4</th>\n",
       "      <td>3333</td>\n",
       "      <td>3333</td>\n",
       "      <td>3333</td>\n",
       "    </tr>\n",
       "    <tr>\n",
       "      <th>...</th>\n",
       "      <td>...</td>\n",
       "      <td>...</td>\n",
       "      <td>...</td>\n",
       "    </tr>\n",
       "    <tr>\n",
       "      <th>95</th>\n",
       "      <td>3333</td>\n",
       "      <td>3333</td>\n",
       "      <td>3333</td>\n",
       "    </tr>\n",
       "    <tr>\n",
       "      <th>96</th>\n",
       "      <td>3334</td>\n",
       "      <td>3334</td>\n",
       "      <td>3334</td>\n",
       "    </tr>\n",
       "    <tr>\n",
       "      <th>97</th>\n",
       "      <td>3333</td>\n",
       "      <td>3333</td>\n",
       "      <td>3333</td>\n",
       "    </tr>\n",
       "    <tr>\n",
       "      <th>98</th>\n",
       "      <td>3333</td>\n",
       "      <td>3333</td>\n",
       "      <td>3333</td>\n",
       "    </tr>\n",
       "    <tr>\n",
       "      <th>99</th>\n",
       "      <td>3334</td>\n",
       "      <td>3334</td>\n",
       "      <td>3334</td>\n",
       "    </tr>\n",
       "  </tbody>\n",
       "</table>\n",
       "<p>100 rows × 3 columns</p>\n",
       "</div>"
      ],
      "text/plain": [
       "       integer  word  count\n",
       "class                      \n",
       "0         3334  3333   3334\n",
       "1         3333  3333   3333\n",
       "2         3333  3333   3333\n",
       "3         3334  3333   3334\n",
       "4         3333  3333   3333\n",
       "...        ...   ...    ...\n",
       "95        3333  3333   3333\n",
       "96        3334  3334   3334\n",
       "97        3333  3333   3333\n",
       "98        3333  3333   3333\n",
       "99        3334  3334   3334\n",
       "\n",
       "[100 rows x 3 columns]"
      ]
     },
     "execution_count": 17,
     "metadata": {},
     "output_type": "execute_result"
    }
   ],
   "source": [
    "unigramcopy.groupby(\"class\").count()"
   ]
  },
  {
   "cell_type": "code",
   "execution_count": null,
   "metadata": {},
   "outputs": [],
   "source": []
  },
  {
   "cell_type": "code",
   "execution_count": 18,
   "metadata": {},
   "outputs": [],
   "source": [
    "unigramcopy[\"word\"] = unigramcopy[\"word\"].astype(\"str\")"
   ]
  },
  {
   "cell_type": "code",
   "execution_count": 19,
   "metadata": {},
   "outputs": [
    {
     "data": {
      "text/plain": [
       "0             the\n",
       "1              of\n",
       "2             and\n",
       "3              to\n",
       "4               a\n",
       "           ...   \n",
       "333328      gooek\n",
       "333329     gooddg\n",
       "333330    gooblle\n",
       "333331     gollgo\n",
       "333332      golgw\n",
       "Name: word, Length: 333333, dtype: object"
      ]
     },
     "execution_count": 19,
     "metadata": {},
     "output_type": "execute_result"
    }
   ],
   "source": [
    "unigramcopy[\"word\"]"
   ]
  },
  {
   "cell_type": "markdown",
   "metadata": {},
   "source": [
    "# Fitting the tokenizer on unigram data"
   ]
  },
  {
   "cell_type": "code",
   "execution_count": 20,
   "metadata": {},
   "outputs": [],
   "source": [
    "t = Tokenizer()\n",
    "\n",
    "\n",
    "try:\n",
    "    t.fit_on_texts(unigramcopy[\"word\"])\n",
    "except Exception as e:\n",
    "    print(\"exception is\", e)\n",
    "    print(\"data passedin \",unigramcopy[\"word\"])"
   ]
  },
  {
   "cell_type": "code",
   "execution_count": 21,
   "metadata": {},
   "outputs": [
    {
     "data": {
      "text/plain": [
       "333332"
      ]
     },
     "execution_count": 21,
     "metadata": {},
     "output_type": "execute_result"
    }
   ],
   "source": [
    "len(t.word_index)"
   ]
  },
  {
   "cell_type": "markdown",
   "metadata": {},
   "source": [
    "# Testing the tokenizer"
   ]
  },
  {
   "cell_type": "code",
   "execution_count": 22,
   "metadata": {},
   "outputs": [
    {
     "data": {
      "text/html": [
       "<div>\n",
       "<style scoped>\n",
       "    .dataframe tbody tr th:only-of-type {\n",
       "        vertical-align: middle;\n",
       "    }\n",
       "\n",
       "    .dataframe tbody tr th {\n",
       "        vertical-align: top;\n",
       "    }\n",
       "\n",
       "    .dataframe thead th {\n",
       "        text-align: right;\n",
       "    }\n",
       "</style>\n",
       "<table border=\"1\" class=\"dataframe\">\n",
       "  <thead>\n",
       "    <tr style=\"text-align: right;\">\n",
       "      <th></th>\n",
       "      <th>Name</th>\n",
       "      <th>Comment</th>\n",
       "    </tr>\n",
       "  </thead>\n",
       "  <tbody>\n",
       "    <tr>\n",
       "      <th>0</th>\n",
       "      <td>Username</td>\n",
       "      <td>[It, impossible, love, Alex, Jones]</td>\n",
       "    </tr>\n",
       "    <tr>\n",
       "      <th>1</th>\n",
       "      <td>TheEAGLESEYES</td>\n",
       "      <td>[blg, another, controlled, demolition, blg, rigged, well, ahead, date, adrenochrome, newborns, sell, five, hundred, thousand, dollars]</td>\n",
       "    </tr>\n",
       "    <tr>\n",
       "      <th>2</th>\n",
       "      <td>Alex Brock</td>\n",
       "      <td>[This, declassified]</td>\n",
       "    </tr>\n",
       "    <tr>\n",
       "      <th>3</th>\n",
       "      <td>Josh Yeager</td>\n",
       "      <td>[Thank, GOD, free, speech, WOE, little, brothers, BOOBTUBE, would, TRY, censor, like, pissing, wind, UNALIENABLE, RIGHT, given, us, CREATOR]</td>\n",
       "    </tr>\n",
       "    <tr>\n",
       "      <th>4</th>\n",
       "      <td>Zic Ky</td>\n",
       "      <td>[Alex, gets, molested]</td>\n",
       "    </tr>\n",
       "  </tbody>\n",
       "</table>\n",
       "</div>"
      ],
      "text/plain": [
       "               Name  \\\n",
       "0          Username   \n",
       "1  TheEAGLESEYES      \n",
       "2        Alex Brock   \n",
       "3       Josh Yeager   \n",
       "4            Zic Ky   \n",
       "\n",
       "                                                                                                                                        Comment  \n",
       "0                                                                                                           [It, impossible, love, Alex, Jones]  \n",
       "1        [blg, another, controlled, demolition, blg, rigged, well, ahead, date, adrenochrome, newborns, sell, five, hundred, thousand, dollars]  \n",
       "2                                                                                                                          [This, declassified]  \n",
       "3  [Thank, GOD, free, speech, WOE, little, brothers, BOOBTUBE, would, TRY, censor, like, pissing, wind, UNALIENABLE, RIGHT, given, us, CREATOR]  \n",
       "4                                                                                                                        [Alex, gets, molested]  "
      ]
     },
     "execution_count": 22,
     "metadata": {},
     "output_type": "execute_result"
    }
   ],
   "source": [
    "dfcopy.head()"
   ]
  },
  {
   "cell_type": "code",
   "execution_count": 23,
   "metadata": {},
   "outputs": [
    {
     "data": {
      "text/plain": [
       "0                                                                                                                 [It, impossible, love, Alex, Jones]\n",
       "1              [blg, another, controlled, demolition, blg, rigged, well, ahead, date, adrenochrome, newborns, sell, five, hundred, thousand, dollars]\n",
       "2                                                                                                                                [This, declassified]\n",
       "3        [Thank, GOD, free, speech, WOE, little, brothers, BOOBTUBE, would, TRY, censor, like, pissing, wind, UNALIENABLE, RIGHT, given, us, CREATOR]\n",
       "4                                                                                                                              [Alex, gets, molested]\n",
       "                                                                             ...                                                                     \n",
       "38222                                                                                                        [need, know, gets, black, long, sleeves]\n",
       "38223               [Speaking, guys, weird, looking, eyes, psychedelics, meet, innerdimensional, entities, look, Zuckerberg, eyes, Tell, thats, true]\n",
       "38224                                                               [Didn, know, much, need, Joe, Rogan, Eddie, bravo, Alex, Jones, talk, show, till]\n",
       "38225                                           [No, wonder, Joe, talks, living, The, guy, great, fucking, talker, He, legit, knows, say, everything]\n",
       "38226                                               [I, really, approve, parading, paranoid, schizophrenic, YouTube, entertainment, holy, shit, riot]\n",
       "Name: Comment, Length: 38227, dtype: object"
      ]
     },
     "execution_count": 23,
     "metadata": {},
     "output_type": "execute_result"
    }
   ],
   "source": [
    "test_text = dfcopy[\"Comment\"]\n",
    "test_text"
   ]
  },
  {
   "cell_type": "code",
   "execution_count": 24,
   "metadata": {},
   "outputs": [],
   "source": [
    "sequences = t.texts_to_sequences(test_text)\n"
   ]
  },
  {
   "cell_type": "code",
   "execution_count": 25,
   "metadata": {},
   "outputs": [
    {
     "data": {
      "text/plain": [
       "[17, 4446, 371, 4050, 2058]"
      ]
     },
     "execution_count": 25,
     "metadata": {},
     "output_type": "execute_result"
    }
   ],
   "source": [
    "sequences[0]"
   ]
  },
  {
   "cell_type": "code",
   "execution_count": null,
   "metadata": {},
   "outputs": [],
   "source": []
  },
  {
   "cell_type": "code",
   "execution_count": 26,
   "metadata": {},
   "outputs": [],
   "source": [
    "# Converting sequences lists to numpy array\n",
    "\n",
    "sequencesarray = np.array(sequences, dtype= object )"
   ]
  },
  {
   "cell_type": "code",
   "execution_count": 27,
   "metadata": {},
   "outputs": [
    {
     "data": {
      "text/plain": [
       "[17, 4446, 371, 4050, 2058]"
      ]
     },
     "execution_count": 27,
     "metadata": {},
     "output_type": "execute_result"
    }
   ],
   "source": [
    "sequencesarray[0]"
   ]
  },
  {
   "cell_type": "code",
   "execution_count": null,
   "metadata": {},
   "outputs": [],
   "source": []
  },
  {
   "cell_type": "markdown",
   "metadata": {},
   "source": [
    "# IMPORTANT NOTE, YOU HAVE TO PASS TOKENIZED DATA INTO TOKENIZER FOR IT TO ENCODE CORRECTLY. DO NOT PASS IN TEXT FORMAT"
   ]
  },
  {
   "cell_type": "markdown",
   "metadata": {},
   "source": [
    ""
   ]
  },
  {
   "cell_type": "code",
   "execution_count": null,
   "metadata": {},
   "outputs": [],
   "source": []
  },
  {
   "cell_type": "code",
   "execution_count": 28,
   "metadata": {},
   "outputs": [
    {
     "data": {
      "text/plain": [
       "['estp entp']"
      ]
     },
     "execution_count": 28,
     "metadata": {},
     "output_type": "execute_result"
    }
   ],
   "source": [
    "test1 = [[292952, 239112]]\n",
    "t.sequences_to_texts(test1)"
   ]
  },
  {
   "cell_type": "code",
   "execution_count": null,
   "metadata": {},
   "outputs": [],
   "source": []
  },
  {
   "cell_type": "code",
   "execution_count": null,
   "metadata": {},
   "outputs": [],
   "source": []
  },
  {
   "cell_type": "code",
   "execution_count": null,
   "metadata": {},
   "outputs": [],
   "source": []
  },
  {
   "cell_type": "markdown",
   "metadata": {},
   "source": [
    "# Classify comments into a class"
   ]
  },
  {
   "cell_type": "code",
   "execution_count": 29,
   "metadata": {},
   "outputs": [],
   "source": [
    "# Function takes in a list and returns an integer class value. These integers will be saved in a separate list. this list and the sequences will be then made into a dataframe into different columns.\n",
    "\n",
    "def myfunmode(list) :\n",
    "    alist=[]\n",
    "    for w in list:\n",
    "        alist.append(unigramcopy[\"class\"].iloc[w])\n",
    "    commentclassmode= stats.mode(alist)[0]\n",
    "    #print(alist)\n",
    "    \n",
    "    return commentclassmode\n"
   ]
  },
  {
   "cell_type": "code",
   "execution_count": 30,
   "metadata": {},
   "outputs": [
    {
     "data": {
      "text/plain": [
       "array([0])"
      ]
     },
     "execution_count": 30,
     "metadata": {},
     "output_type": "execute_result"
    }
   ],
   "source": [
    "myfunmode(sequencesarray[0])\n"
   ]
  },
  {
   "cell_type": "code",
   "execution_count": 31,
   "metadata": {},
   "outputs": [
    {
     "data": {
      "text/plain": [
       "38227"
      ]
     },
     "execution_count": 31,
     "metadata": {},
     "output_type": "execute_result"
    }
   ],
   "source": [
    "len(sequencesarray)"
   ]
  },
  {
   "cell_type": "code",
   "execution_count": 32,
   "metadata": {},
   "outputs": [],
   "source": [
    "commentclassmode=[]\n"
   ]
  },
  {
   "cell_type": "code",
   "execution_count": 33,
   "metadata": {},
   "outputs": [],
   "source": [
    "for w in range (len(sequencesarray)) :\n",
    "    commentclassmode.append(myfunmode(sequencesarray[w]))"
   ]
  },
  {
   "cell_type": "code",
   "execution_count": 34,
   "metadata": {},
   "outputs": [
    {
     "data": {
      "text/plain": [
       "38227"
      ]
     },
     "execution_count": 34,
     "metadata": {},
     "output_type": "execute_result"
    }
   ],
   "source": [
    "len(commentclassmode)"
   ]
  },
  {
   "cell_type": "code",
   "execution_count": 35,
   "metadata": {},
   "outputs": [
    {
     "data": {
      "text/plain": [
       "array([0])"
      ]
     },
     "execution_count": 35,
     "metadata": {},
     "output_type": "execute_result"
    }
   ],
   "source": [
    "commentclassmode[0]"
   ]
  },
  {
   "cell_type": "code",
   "execution_count": 36,
   "metadata": {},
   "outputs": [],
   "source": [
    "df= pd.DataFrame(sequencesarray)"
   ]
  },
  {
   "cell_type": "code",
   "execution_count": 37,
   "metadata": {},
   "outputs": [],
   "source": [
    "df[\"classmode\"] = pd.DataFrame(commentclassmode)"
   ]
  },
  {
   "cell_type": "code",
   "execution_count": 38,
   "metadata": {},
   "outputs": [],
   "source": [
    "df.rename(columns = {0:\"comments\"}, inplace = True) "
   ]
  },
  {
   "cell_type": "code",
   "execution_count": 39,
   "metadata": {},
   "outputs": [
    {
     "data": {
      "text/html": [
       "<div>\n",
       "<style scoped>\n",
       "    .dataframe tbody tr th:only-of-type {\n",
       "        vertical-align: middle;\n",
       "    }\n",
       "\n",
       "    .dataframe tbody tr th {\n",
       "        vertical-align: top;\n",
       "    }\n",
       "\n",
       "    .dataframe thead th {\n",
       "        text-align: right;\n",
       "    }\n",
       "</style>\n",
       "<table border=\"1\" class=\"dataframe\">\n",
       "  <thead>\n",
       "    <tr style=\"text-align: right;\">\n",
       "      <th></th>\n",
       "      <th>comments</th>\n",
       "      <th>classmode</th>\n",
       "    </tr>\n",
       "  </thead>\n",
       "  <tbody>\n",
       "    <tr>\n",
       "      <th>0</th>\n",
       "      <td>[17, 4446, 371, 4050, 2058]</td>\n",
       "      <td>0.0</td>\n",
       "    </tr>\n",
       "    <tr>\n",
       "      <th>1</th>\n",
       "      <td>[84541, 385, 3276, 14287, 84541, 33122, 158, 2800, 103, 29713, 565, 765, 3926, 4040, 2020]</td>\n",
       "      <td>0.0</td>\n",
       "    </tr>\n",
       "    <tr>\n",
       "      <th>2</th>\n",
       "      <td>[13, 53164]</td>\n",
       "      <td>0.0</td>\n",
       "    </tr>\n",
       "    <tr>\n",
       "      <th>3</th>\n",
       "      <td>[1286, 691, 43, 2558, 25703, 399, 3425, 87, 685, 28163, 97, 5407, 1900, 96919, 235, 623, 36, 5715]</td>\n",
       "      <td>0.0</td>\n",
       "    </tr>\n",
       "    <tr>\n",
       "      <th>4</th>\n",
       "      <td>[4050, 1685, 56606]</td>\n",
       "      <td>0.0</td>\n",
       "    </tr>\n",
       "  </tbody>\n",
       "</table>\n",
       "</div>"
      ],
      "text/plain": [
       "                                                                                             comments  \\\n",
       "0                                                                         [17, 4446, 371, 4050, 2058]   \n",
       "1          [84541, 385, 3276, 14287, 84541, 33122, 158, 2800, 103, 29713, 565, 765, 3926, 4040, 2020]   \n",
       "2                                                                                         [13, 53164]   \n",
       "3  [1286, 691, 43, 2558, 25703, 399, 3425, 87, 685, 28163, 97, 5407, 1900, 96919, 235, 623, 36, 5715]   \n",
       "4                                                                                 [4050, 1685, 56606]   \n",
       "\n",
       "   classmode  \n",
       "0        0.0  \n",
       "1        0.0  \n",
       "2        0.0  \n",
       "3        0.0  \n",
       "4        0.0  "
      ]
     },
     "execution_count": 39,
     "metadata": {},
     "output_type": "execute_result"
    }
   ],
   "source": [
    "df.head()"
   ]
  },
  {
   "cell_type": "code",
   "execution_count": 40,
   "metadata": {},
   "outputs": [],
   "source": [
    "jreneil= df.groupby(\"classmode\")[\"comments\"]"
   ]
  },
  {
   "cell_type": "code",
   "execution_count": 41,
   "metadata": {},
   "outputs": [],
   "source": [
    "gbycount= jreneil.count()"
   ]
  },
  {
   "cell_type": "code",
   "execution_count": 42,
   "metadata": {},
   "outputs": [
    {
     "data": {
      "text/plain": [
       "classmode\n",
       "0.0     35804\n",
       "1.0      1456\n",
       "2.0       320\n",
       "3.0       124\n",
       "4.0       133\n",
       "5.0        31\n",
       "6.0        37\n",
       "7.0        18\n",
       "8.0        19\n",
       "9.0        18\n",
       "10.0        6\n",
       "11.0       11\n",
       "12.0        3\n",
       "13.0        9\n",
       "14.0        6\n",
       "15.0        5\n",
       "16.0        5\n",
       "17.0        6\n",
       "18.0        2\n",
       "19.0        3\n",
       "20.0        3\n",
       "21.0        8\n",
       "22.0        7\n",
       "23.0        2\n",
       "24.0        1\n",
       "25.0        1\n",
       "26.0       12\n",
       "29.0        1\n",
       "32.0        1\n",
       "33.0        2\n",
       "34.0        1\n",
       "35.0        1\n",
       "39.0        1\n",
       "40.0        1\n",
       "41.0        2\n",
       "43.0        1\n",
       "45.0        1\n",
       "47.0        2\n",
       "49.0        1\n",
       "50.0        2\n",
       "55.0        1\n",
       "57.0        1\n",
       "66.0        1\n",
       "68.0        1\n",
       "72.0        1\n",
       "74.0        1\n",
       "79.0        1\n",
       "84.0        2\n",
       "Name: comments, dtype: int64"
      ]
     },
     "execution_count": 42,
     "metadata": {},
     "output_type": "execute_result"
    }
   ],
   "source": [
    "gbycount"
   ]
  },
  {
   "cell_type": "code",
   "execution_count": 43,
   "metadata": {},
   "outputs": [
    {
     "data": {
      "text/plain": [
       "Text(0.5, 0, 'Class')"
      ]
     },
     "execution_count": 43,
     "metadata": {},
     "output_type": "execute_result"
    },
    {
     "data": {
      "image/png": "[encoded data removed]",
      "text/plain": [
       "<Figure size 432x288 with 1 Axes>"
      ]
     },
     "metadata": {
      "needs_background": "light"
     },
     "output_type": "display_data"
    }
   ],
   "source": [
    "plt.bar(gbycount.index[5:], gbycount[5:])\n",
    "plt.xlabel(\"Class\")"
   ]
  },
  {
   "cell_type": "code",
   "execution_count": null,
   "metadata": {},
   "outputs": [],
   "source": []
  }
 ],
 "metadata": {
  "kernelspec": {
   "display_name": "Python 3",
   "language": "python",
   "name": "python3"
  },
  "language_info": {
   "codemirror_mode": {
    "name": "ipython",
    "version": 3
   },
   "file_extension": ".py",
   "mimetype": "text/x-python",
   "name": "python",
   "nbconvert_exporter": "python",
   "pygments_lexer": "ipython3",
   "version": "3.8.5"
  }
 },
 "nbformat": 4,
 "nbformat_minor": 4
}
